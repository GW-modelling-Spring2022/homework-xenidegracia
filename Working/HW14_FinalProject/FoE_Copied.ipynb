{
 "cells": [
  {
   "cell_type": "markdown",
   "metadata": {},
   "source": [
    "# Ensemble Analysis\n",
    "#### This notebook reads in and formats outputs from ensemble simulations so that you can evaluate and plot\n"
   ]
  },
  {
   "cell_type": "code",
   "execution_count": 2,
   "metadata": {},
   "outputs": [
    {
     "name": "stdout",
     "output_type": "stream",
     "text": [
      "There are # 11 ensembles to evaluate\n"
     ]
    }
   ],
   "source": [
    "\n",
    "#Import packages\n",
    "#import packages\n",
    "import flopy\n",
    "import numpy as np\n",
    "import matplotlib.pyplot as plt\n",
    "import matplotlib as mp\n",
    "import pandas as pd\n",
    "import numpy as np\n",
    "import os\n",
    "\n",
    "\n",
    "#additional analysis tools\n",
    "import flopy.utils.binaryfile as bf\n",
    "from mpl_toolkits.mplot3d import Axes3D\n",
    "from matplotlib import cm\n",
    "from matplotlib.ticker import LinearLocator, FormatStrFormatter\n",
    "\n",
    "\n",
    "np.set_printoptions(threshold=np.inf)\n",
    "\n",
    "#jupyter specific--included to show plots in notebook\n",
    "%matplotlib inline \n",
    "\n",
    "#Setup static variables\n",
    "nrow = 50 #number of rows\n",
    "ncol = 50 #number of columns\n",
    "nlay = 3  #number of layers\n",
    "dx= 1000 #width of grid cells in x direction \n",
    "dy= 1000 #width of grid cells in y direction \n",
    "Lx = ncol*dx  #width of domain in x\n",
    "Ly = nrow*dy #width of domain in y\n",
    "\n",
    "ensembles = [[2,2,2,2,2,2,2],\n",
    "[2,2,2,1,2,2,2], \n",
    "[2,2,2,3,2,2,2],\n",
    "[2,2,2,2,2,2,1],\n",
    "[2,2,2,2,2,2,3],\n",
    "[2,2,2,2,2,1,2],\n",
    "[2,2,2,2,2,3,2],\n",
    "[2,2,2,1,3,3,1],\n",
    "[2,2,2,3,1,1,3],\n",
    "[3,2,2,2,2,2,3],\n",
    "[1,2,2,2,2,2,1]]\n",
    "\n",
    "n_ens = len(ensembles)\n",
    "print('There are #', n_ens, 'ensembles to evaluate')\n",
    "\n",
    "\n"
   ]
  },
  {
   "cell_type": "markdown",
   "metadata": {},
   "source": [
    "## Read in the heads and create timeseries at points"
   ]
  },
  {
   "cell_type": "code",
   "execution_count": 3,
   "metadata": {},
   "outputs": [
    {
     "name": "stdout",
     "output_type": "stream",
     "text": [
      "[[0. 0. 0. 0.]\n",
      " [0. 0. 0. 0.]\n",
      " [0. 0. 0. 0.]\n",
      " [0. 0. 0. 0.]\n",
      " [0. 0. 0. 0.]\n",
      " [0. 0. 0. 0.]\n",
      " [0. 0. 0. 0.]\n",
      " [0. 0. 0. 0.]\n",
      " [0. 0. 0. 0.]\n",
      " [0. 0. 0. 0.]\n",
      " [0. 0. 0. 0.]]\n",
      "longitude of the ensambles list is:  11\n",
      "[321.07678, 320.94498, 321.20532, 318.23572, 321.1903, 321.09412, 321.0596, 315.02966, 321.25977, 321.16547, 321.71713]\n",
      "[319.73523, 319.23355, 320.2223, 316.98682, 319.94128, 319.75583, 319.71478, 313.71777, 320.38885, 320.14133, 318.80807]\n",
      "[318.6308, 318.22763, 319.02377, 316.62878, 318.76123, 318.64954, 318.61224, 313.9227, 319.13474, 318.57037, 319.7591]\n"
     ]
    }
   ],
   "source": [
    "#setup well locations and observation points\n",
    "# To pull outwant the row of observations starting at well location and edge of riparian community @ horizontal point!!!!\n",
    "en_list = [2222222,\n",
    "2221222, \n",
    "2223222,\n",
    "2222221,\n",
    "2222223,\n",
    "2222212,\n",
    "2222232,\n",
    "2221331,\n",
    "2223113,\n",
    "3222223,\n",
    "1222221]\n",
    "\n",
    "welli_loc = (0,12, 14) #ag irrigation well \n",
    "river_head = (0,23, 14) # river point\n",
    "farm_newloc = (0,4,21) #new farm location farther to the river\n",
    "\n",
    "#heads_indicator = (0, 12:24, 14) # pull values for the head\n",
    "# array 1 - array 2 / # of cells * distance per meter\n",
    "# plot river point head\n",
    "\n",
    "#setup timeseries\n",
    "final_array = np.zeros(shape = (11,4))\n",
    "\n",
    "print(final_array)\n",
    "\n",
    "ag_head_ts = []  # timeseries of head at agg well\n",
    "riv_heads_ts = []\n",
    "farm_heads_ts = []\n",
    "# Loop through the ensembles and read the data\n",
    "root_name = 'ensemble_' #root of the run names\n",
    "for i in range(len(ensembles)):\n",
    "    name = root_name  #Create the file name from list \n",
    "    for k in range(len(ensembles[i])):\n",
    "        string = str(ensembles[i][k])\n",
    "        name = name + string   \n",
    "\n",
    "    #read in the head and water budget files\n",
    "    headobj = flopy.utils.binaryfile.HeadFile(name+'.hds')\n",
    "   \n",
    "    #Extract out time series of heads at points of interest\n",
    "    ag_head_ts.append(np.mean(headobj.get_ts(welli_loc)))\n",
    "    riv_heads_ts.append(np.mean(headobj.get_ts(river_head)))\n",
    "    farm_heads_ts.append(np.mean(headobj.get_ts(farm_newloc)))\n",
    "    times = headobj.get_times()\n",
    "    #print(budgobj.get_unique_record_names())\n",
    "\n",
    "    #print(riv_heads_ts)\n",
    "print('longitude of the ensambles list is: ', len(en_list))\n",
    "\n",
    "\n",
    "#en_list.append(riv_heads_ts)\n",
    "#print(en_list)\n",
    "\n",
    "print(riv_heads_ts)\n",
    "print(ag_head_ts)\n",
    "print(farm_heads_ts)\n",
    "\n",
    "\n"
   ]
  },
  {
   "cell_type": "markdown",
   "metadata": {},
   "source": [
    "## Calculate Slope and Graph"
   ]
  },
  {
   "cell_type": "code",
   "execution_count": 6,
   "metadata": {},
   "outputs": [
    {
     "name": "stdout",
     "output_type": "stream",
     "text": [
      "slopes from ag well to river are  [1.21959340e-04 1.55584159e-04 8.93665638e-05 1.13536487e-04\n",
      " 1.13547583e-04 1.21662488e-04 1.22256199e-04 1.19262695e-04\n",
      " 7.91736966e-05 9.31035829e-05 2.64459784e-04]\n",
      "slopes from farm to river are  [1.28735992e-04 1.43018216e-04 1.14818373e-04 8.45754548e-05\n",
      " 1.27846171e-04 1.28662112e-04 1.28808271e-04 5.82612702e-05\n",
      " 1.11843714e-04 1.36583825e-04 1.03054648e-04]\n"
     ]
    }
   ],
   "source": [
    "# Can plot into excel\n",
    "# variable.write() --> write out into python\n",
    "slope_array = np.subtract(riv_heads_ts,ag_head_ts)/ ((23-12)* dx) # slopes from ag well to river\n",
    "print('slopes from ag well to river are ', slope_array)\n",
    "print()\n",
    "\n",
    "slopes2 = np.subtract(riv_heads_ts,farm_heads_ts)/ ((23-4)* dx) # slopes from farm to river\n",
    "print('slopes from farm to river are ', slopes2)\n",
    "\n",
    "\n",
    "#slope_array.append(en_list)\n",
    "#print('slopes from farm to river are ', slope_array)\n"
   ]
  },
  {
   "cell_type": "markdown",
   "metadata": {},
   "source": [
    "## Read in the river leakage"
   ]
  },
  {
   "cell_type": "code",
   "execution_count": 5,
   "metadata": {},
   "outputs": [
    {
     "ename": "IndexError",
     "evalue": "index 4 is out of bounds for axis 1 with size 4",
     "output_type": "error",
     "traceback": [
      "\u001b[1;31m---------------------------------------------------------------------------\u001b[0m",
      "\u001b[1;31mIndexError\u001b[0m                                Traceback (most recent call last)",
      "\u001b[1;32mc:\\Users\\ual-laptop\\Documents\\GWinLenovo\\homework-xenidegracia\\Working\\HW14_FinalProject\\FoE_Copied.ipynb Cell 8'\u001b[0m in \u001b[0;36m<cell line: 26>\u001b[1;34m()\u001b[0m\n\u001b[0;32m     <a href='vscode-notebook-cell:/c%3A/Users/ual-laptop/Documents/GWinLenovo/homework-xenidegracia/Working/HW14_FinalProject/FoE_Copied.ipynb#ch0000007?line=28'>29</a>\u001b[0m    final_array[l,\u001b[39m2\u001b[39m] \u001b[39m=\u001b[39m slope_array[l]\n\u001b[0;32m     <a href='vscode-notebook-cell:/c%3A/Users/ual-laptop/Documents/GWinLenovo/homework-xenidegracia/Working/HW14_FinalProject/FoE_Copied.ipynb#ch0000007?line=29'>30</a>\u001b[0m    final_array[l,\u001b[39m3\u001b[39m] \u001b[39m=\u001b[39m slopes2[l]\n\u001b[1;32m---> <a href='vscode-notebook-cell:/c%3A/Users/ual-laptop/Documents/GWinLenovo/homework-xenidegracia/Working/HW14_FinalProject/FoE_Copied.ipynb#ch0000007?line=30'>31</a>\u001b[0m    final_array[l,\u001b[39m4\u001b[39m] \u001b[39m=\u001b[39m leakage_all[l]\n\u001b[0;32m     <a href='vscode-notebook-cell:/c%3A/Users/ual-laptop/Documents/GWinLenovo/homework-xenidegracia/Working/HW14_FinalProject/FoE_Copied.ipynb#ch0000007?line=32'>33</a>\u001b[0m \u001b[39m# Write out CSV\u001b[39;00m\n\u001b[0;32m     <a href='vscode-notebook-cell:/c%3A/Users/ual-laptop/Documents/GWinLenovo/homework-xenidegracia/Working/HW14_FinalProject/FoE_Copied.ipynb#ch0000007?line=33'>34</a>\u001b[0m pd\u001b[39m.\u001b[39mDataFrame(final_array)\u001b[39m.\u001b[39mto_csv(\u001b[39m'\u001b[39m\u001b[39mmetrics_farm.csv\u001b[39m\u001b[39m'\u001b[39m)\n",
      "\u001b[1;31mIndexError\u001b[0m: index 4 is out of bounds for axis 1 with size 4"
     ]
    }
   ],
   "source": [
    "#setup arrays to store the values\n",
    "leakage_array = np.zeros((len(ensembles), len(times), 49))\n",
    "\n",
    "# Loop through the ensembles and read the data\n",
    "root_name = 'ensemble_' #root of the run names\n",
    "for i in range(len(ensembles)):\n",
    "    name = root_name  #Create the file name from list \n",
    "    for k in range(len(ensembles[i])):\n",
    "        string = str(ensembles[i][k])\n",
    "        name = name + string   \n",
    "\n",
    "    #water budget files\n",
    "    budgobj = flopy.utils.binaryfile.CellBudgetFile(name+'.cbc')   \n",
    "\n",
    "    rowcounter = -1\n",
    "    for t in times:\n",
    "        rowcounter += 1\n",
    "\n",
    "        templeak = budgobj.get_data(text='RIVER LEAKAGE', totim=t) # \n",
    "        leakage_array[i, rowcounter,:] = templeak[0].q\n",
    "\n",
    "leakage_all = np.sum(leakage_array, axis = (1,2))/61 # sum up across entire time series across all cells ( divide by total time steps to get avg river leakage)\n",
    "\n",
    "\n",
    "# Add All Variables to the final_array so it plots nicely\n",
    "for l in range(len(ensembles)):\n",
    "   final_array[l,0]= en_list[l]\n",
    "   final_array[l,1] = riv_heads_ts[l]\n",
    "   final_array[l,2] = slope_array[l]\n",
    "   final_array[l,3] = slopes2[l]\n",
    "   final_array[l,4] = leakage_all[l]\n",
    "\n",
    "# Write out CSV\n",
    "pd.DataFrame(final_array).to_csv('metrics_farm.csv')\n",
    "#np.savetxt('test.csv', en_list, delimiter=\",\")\n",
    "\n",
    "# Ways to Plot\n",
    "# 1. Difference between Scenarios ( Average across all params, all results plotted by scenario ( 4 colors) )\n",
    "# 2. Param space sensitivity ( Pick on scenario and plot)"
   ]
  },
  {
   "cell_type": "markdown",
   "metadata": {},
   "source": [
    "### Trying to plot the Slopes VS. Ensamble"
   ]
  },
  {
   "cell_type": "code",
   "execution_count": null,
   "metadata": {},
   "outputs": [
    {
     "ename": "NameError",
     "evalue": "name 'plt' is not defined",
     "output_type": "error",
     "traceback": [
      "\u001b[1;31m---------------------------------------------------------------------------\u001b[0m",
      "\u001b[1;31mNameError\u001b[0m                                 Traceback (most recent call last)",
      "\u001b[1;32mc:\\Users\\ual-laptop\\Documents\\GWinLenovo\\homework-xenidegracia\\Working\\HW14_FinalProject\\FoE_Copied.ipynb Cell 10'\u001b[0m in \u001b[0;36m<cell line: 1>\u001b[1;34m()\u001b[0m\n\u001b[1;32m----> <a href='vscode-notebook-cell:/c%3A/Users/ual-laptop/Documents/GWinLenovo/homework-xenidegracia/Working/HW14_FinalProject/FoE_Copied.ipynb#ch0000009?line=0'>1</a>\u001b[0m plt\u001b[39m.\u001b[39mscatter(\u001b[39mlist\u001b[39m(\u001b[39m0\u001b[39m,\u001b[39m10\u001b[39m,\u001b[39m1\u001b[39m),final_array[:,\u001b[39m3\u001b[39m],)\n\u001b[0;32m      <a href='vscode-notebook-cell:/c%3A/Users/ual-laptop/Documents/GWinLenovo/homework-xenidegracia/Working/HW14_FinalProject/FoE_Copied.ipynb#ch0000009?line=1'>2</a>\u001b[0m plt\u001b[39m.\u001b[39mtitle(\u001b[39m'\u001b[39m\u001b[39mGradient comparison from Farm to River\u001b[39m\u001b[39m'\u001b[39m)\n\u001b[0;32m      <a href='vscode-notebook-cell:/c%3A/Users/ual-laptop/Documents/GWinLenovo/homework-xenidegracia/Working/HW14_FinalProject/FoE_Copied.ipynb#ch0000009?line=2'>3</a>\u001b[0m plt\u001b[39m.\u001b[39mshow()\n",
      "\u001b[1;31mNameError\u001b[0m: name 'plt' is not defined"
     ]
    }
   ],
   "source": [
    "plt.scatter(list(0,10,1),final_array[:,3],)\n",
    "plt.title('Gradient comparison from Farm to River')\n",
    "plt.show()"
   ]
  }
 ],
 "metadata": {
  "interpreter": {
   "hash": "364ca5c91eaccc4bd70ebb8b2ba5ce193c62129a7338f6a52baedecab541054a"
  },
  "kernelspec": {
   "display_name": "Python 3.8.12 ('gwmod38')",
   "language": "python",
   "name": "python3"
  },
  "language_info": {
   "codemirror_mode": {
    "name": "ipython",
    "version": 3
   },
   "file_extension": ".py",
   "mimetype": "text/x-python",
   "name": "python",
   "nbconvert_exporter": "python",
   "pygments_lexer": "ipython3",
   "version": "3.8.12"
  },
  "orig_nbformat": 4
 },
 "nbformat": 4,
 "nbformat_minor": 2
}
